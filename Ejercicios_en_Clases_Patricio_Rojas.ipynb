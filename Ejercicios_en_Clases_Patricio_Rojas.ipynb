{
  "nbformat": 4,
  "nbformat_minor": 0,
  "metadata": {
    "colab": {
      "provenance": []
    },
    "kernelspec": {
      "name": "python3",
      "display_name": "Python 3"
    },
    "language_info": {
      "name": "python"
    }
  },
  "cells": [
    {
      "cell_type": "code",
      "execution_count": 3,
      "metadata": {
        "colab": {
          "base_uri": "https://localhost:8080/"
        },
        "id": "vKHHtYrvfZ-G",
        "outputId": "22c1337f-15ca-47da-a247-33fa748f3117"
      },
      "outputs": [
        {
          "output_type": "stream",
          "name": "stdout",
          "text": [
            "[8, 9, 7, 1, 2, 6, 0, 5, 3, 4]\n",
            "Ingrese un número: 2\n",
            "El número ingresado se encuentra en la lista.\n"
          ]
        }
      ],
      "source": [
        "import random\n",
        "\n",
        "lista = random.sample(range(10), 10)\n",
        "print(lista)\n",
        "\n",
        "num = int(input(\"Ingrese un número: \"))\n",
        "\n",
        "if num not in lista:\n",
        "  print(\"El número ingresado no se encuentra en la lista.\")\n",
        "else:\n",
        "  print(\"El número ingresado se encuentra en la lista.\")"
      ]
    },
    {
      "cell_type": "code",
      "source": [
        "import random\n",
        "\n",
        "while True:\n",
        "    num1 = int(input(\"Ingrese el primer número (entre 3 y 6): \"))\n",
        "    num2 = int(input(\"Ingrese el segundo número (entre 3 y 6): \"))\n",
        "    if 3 <= num1 <= 6 and 3 <= num2 <= 6:\n",
        "        break\n",
        "    print(\"Los números ingresados deben ser entre 3 y 6..\")\n",
        "\n",
        "matriz = []\n",
        "for _ in range(num1):\n",
        "    fila = []\n",
        "    for _ in range(num2):\n",
        "        fila.append(random.randint(1, 10))\n",
        "    matriz.append(fila)\n",
        "\n",
        "print(\"Arreglo poblado:\")\n",
        "for fila in matriz:\n",
        "    print(fila)\n",
        "\n",
        "suma_filas = []\n",
        "for fila in matriz:\n",
        "    suma = sum(fila)\n",
        "    suma_filas.append(suma)\n",
        "\n",
        "print(\"Suma por filas:\")\n",
        "print(suma_filas)\n",
        "\n",
        "promedio_columnas = []\n",
        "for i in range(num2):\n",
        "    suma = 0\n",
        "    for j in range(num1):\n",
        "        suma += matriz[j][i]\n",
        "    promedio = suma / num1\n",
        "    promedio_columnas.append(promedio)\n",
        "\n",
        "print(\"Promedio por columnas:\")\n",
        "print(promedio_columnas)"
      ],
      "metadata": {
        "colab": {
          "base_uri": "https://localhost:8080/"
        },
        "id": "BgfU4Xv_fsDC",
        "outputId": "0b65fc00-d051-4d4f-b3df-a4ca9789edfc"
      },
      "execution_count": 7,
      "outputs": [
        {
          "output_type": "stream",
          "name": "stdout",
          "text": [
            "Ingrese el primer número (entre 3 y 6): 4\n",
            "Ingrese el segundo número (entre 3 y 6): 6\n",
            "Arreglo poblado:\n",
            "[5, 1, 2, 10, 2, 8]\n",
            "[2, 7, 3, 5, 9, 6]\n",
            "[8, 6, 4, 2, 10, 2]\n",
            "[4, 2, 1, 2, 7, 2]\n",
            "Suma por filas:\n",
            "[28, 32, 32, 18]\n",
            "Promedio por columnas:\n",
            "[4.75, 4.0, 2.5, 4.75, 7.0, 4.5]\n"
          ]
        }
      ]
    },
    {
      "cell_type": "code",
      "source": [
        "def area_circulo():\n",
        "    radio = float(input(\"Ingrese el radio del círculo: \"))\n",
        "    area = 3.14159 * radio**2\n",
        "    print(\"El área del círculo es:\", area)\n",
        "\n",
        "def perimetro_cuadrado():\n",
        "    lado = float(input(\"Ingrese el lado del cuadrado: \"))\n",
        "    perimetro = 4 * lado\n",
        "    print(\"El perímetro del cuadrado es:\", perimetro)\n",
        "\n",
        "while True:\n",
        "    print(\"Bienvenido al menú de cálculo.\")\n",
        "    print(\"1. Calcular el área de un círculo\")\n",
        "    print(\"2. Calcular el perímetro de un cuadrado\")\n",
        "    print(\"3. Salir\")\n",
        "\n",
        "    opcion = input(\"Seleccione una opción: \")\n",
        "\n",
        "    if opcion == \"1\":\n",
        "        area_circulo()\n",
        "    elif opcion == \"2\":\n",
        "        perimetro_cuadrado()\n",
        "    elif opcion == \"3\":\n",
        "        print(\"Ha salido del programa.\")\n",
        "        break\n",
        "    else:\n",
        "        print(\"Debe ingresar una opción válida.\")"
      ],
      "metadata": {
        "colab": {
          "base_uri": "https://localhost:8080/"
        },
        "id": "ee6gLE78geyg",
        "outputId": "e2a8108e-dd94-4ffc-ae6c-5892f5e6dce2"
      },
      "execution_count": 9,
      "outputs": [
        {
          "output_type": "stream",
          "name": "stdout",
          "text": [
            "Bienvenido al menú de cálculo.\n",
            "1. Calcular el área de un círculo\n",
            "2. Calcular el perímetro de un cuadrado\n",
            "3. Salir\n",
            "Seleccione una opción: 1\n",
            "Ingrese el radio del círculo: 8\n",
            "El área del círculo es: 201.06176\n",
            "Bienvenido al menú de cálculo.\n",
            "1. Calcular el área de un círculo\n",
            "2. Calcular el perímetro de un cuadrado\n",
            "3. Salir\n",
            "Seleccione una opción: 2\n",
            "Ingrese el lado del cuadrado: 40\n",
            "El perímetro del cuadrado es: 160.0\n",
            "Bienvenido al menú de cálculo.\n",
            "1. Calcular el área de un círculo\n",
            "2. Calcular el perímetro de un cuadrado\n",
            "3. Salir\n",
            "Seleccione una opción: 3\n",
            "Ha salido del programa.\n"
          ]
        }
      ]
    },
    {
      "cell_type": "code",
      "source": [
        "def calcular_total(cafe, cantidad):\n",
        "    precios = {\n",
        "        \"Espresso\": 1500,\n",
        "        \"Capuchino\": 1800,\n",
        "        \"Latte\": 1600,\n",
        "        \"Moca\": 1700\n",
        "    }\n",
        "\n",
        "    total = precios[cafe] * cantidad\n",
        "\n",
        "    if total >= 3000:\n",
        "        descuento = total * 0.1\n",
        "        total -= descuento\n",
        "\n",
        "    return total\n",
        "\n",
        "while True:\n",
        "    print(\"Bienvenido al menú de venta de café.\")\n",
        "    print(\"1. Espresso\")\n",
        "    print(\"2. Capuchino\")\n",
        "    print(\"3. Latte\")\n",
        "    print(\"4. Moca\")\n",
        "    print(\"5. Salir\")\n",
        "\n",
        "    opcion = input(\"Seleccione una opción: \")\n",
        "\n",
        "    if opcion == \"5\":\n",
        "        print(\"Ha salido del programa.\")\n",
        "        break\n",
        "\n",
        "    if opcion in [\"1\", \"2\", \"3\", \"4\"]:\n",
        "        cafe = \"\"\n",
        "        if opcion == \"1\":\n",
        "            cafe = \"Espresso\"\n",
        "        elif opcion == \"2\":\n",
        "            cafe = \"Capuchino\"\n",
        "        elif opcion == \"3\":\n",
        "            cafe = \"Latte\"\n",
        "        elif opcion == \"4\":\n",
        "            cafe = \"Moca\"\n",
        "\n",
        "        cantidad = int(input(\"Ingrese la cantidad de cafés: \"))\n",
        "\n",
        "        total_a_pagar = calcular_total(cafe, cantidad)\n",
        "\n",
        "        if total_a_pagar >= 3000:\n",
        "            print(\"Se aplicó un descuento del 10%.\")\n",
        "\n",
        "        print(\"El total a pagar es:\", total_a_pagar)\n",
        "\n",
        "    else:\n",
        "        print(\"Debe ingresar una opción válida.\")"
      ],
      "metadata": {
        "colab": {
          "base_uri": "https://localhost:8080/"
        },
        "id": "QEOxBi48hPnw",
        "outputId": "79f346cd-9a3d-45d4-f3a6-4fa611520677"
      },
      "execution_count": 14,
      "outputs": [
        {
          "output_type": "stream",
          "name": "stdout",
          "text": [
            "Bienvenido al menú de venta de café.\n",
            "1. Espresso\n",
            "2. Capuchino\n",
            "3. Latte\n",
            "4. Moca\n",
            "5. Salir\n",
            "Seleccione una opción: 2\n",
            "Ingrese la cantidad de cafés: 4\n",
            "Se aplicó un descuento del 10%.\n",
            "El total a pagar es: 6480.0\n",
            "Bienvenido al menú de venta de café.\n",
            "1. Espresso\n",
            "2. Capuchino\n",
            "3. Latte\n",
            "4. Moca\n",
            "5. Salir\n",
            "Seleccione una opción: 5\n",
            "Ha salido del programa.\n"
          ]
        }
      ]
    },
    {
      "cell_type": "code",
      "source": [
        "productos = []\n",
        "\n",
        "def grabar_producto():\n",
        "    while True:\n",
        "        numero_parte = input(\"Ingrese el número de parte: \")\n",
        "        if validar_numero_parte(numero_parte):\n",
        "            break\n",
        "        else:\n",
        "            print(\"Debe ingresar un número de parte válido..\")\n",
        "\n",
        "    nombre_producto = input(\"Ingrese el nombre del producto: \")\n",
        "    precio_producto = float(input(\"Ingrese el precio del producto: \"))\n",
        "\n",
        "    producto = {\n",
        "        \"numero_parte\": numero_parte,\n",
        "        \"nombre_producto\": nombre_producto,\n",
        "        \"precio_producto\": precio_producto\n",
        "    }\n",
        "\n",
        "    productos.append(producto)\n",
        "    print(\"Se ha grabado el producto.\")\n",
        "\n",
        "def buscar_producto():\n",
        "    numero_parte_buscar = input(\"Ingrese el número de parte a buscar: \")\n",
        "\n",
        "    for producto in productos:\n",
        "        if producto[\"numero_parte\"] == numero_parte_buscar:\n",
        "            if producto[\"precio_producto\"] >= 500:\n",
        "                print(\"Información del producto:\")\n",
        "                print(\"Número de parte:\", producto[\"numero_parte\"])\n",
        "                print(\"Nombre del producto:\", producto[\"nombre_producto\"])\n",
        "                print(\"Precio del producto:\", producto[\"precio_producto\"])\n",
        "                return\n",
        "\n",
        "    print(\"El producto no tiene stock.\")\n",
        "\n",
        "def imprimir_reporte():\n",
        "    print(\"Reporte de productos:\")\n",
        "    for producto in productos:\n",
        "        print(\"Número de parte:\", producto[\"numero_parte\"])\n",
        "        print(\"Nombre del producto:\", producto[\"nombre_producto\"])\n",
        "        print(\"Descripción del producto:\", obtener_descripcion_producto(producto))\n",
        "        print(\"Valor del producto:\", producto[\"precio_producto\"])\n",
        "\n",
        "def validar_numero_parte(numero_parte):\n",
        "    return True\n",
        "\n",
        "def obtener_descripcion_producto(producto):\n",
        "    return \"\"\n",
        "\n",
        "while True:\n",
        "    print(\"Bienvenido al menú.\")\n",
        "    print(\"1. Grabar\")\n",
        "    print(\"2. Buscar\")\n",
        "    print(\"3. Imprimir\")\n",
        "    print(\"4. Salir\")\n",
        "\n",
        "    opcion = input(\"Seleccione una opción: \")\n",
        "\n",
        "    if opcion == \"1\":\n",
        "        grabar_producto()\n",
        "    elif opcion == \"2\":\n",
        "        buscar_producto()\n",
        "    elif opcion == \"3\":\n",
        "        imprimir_reporte()\n",
        "    elif opcion == \"4\":\n",
        "        print(\"Ha salido del programa.\")\n",
        "        break\n",
        "    else:\n",
        "        print(\"Debe ingresar una opción válida.\")\n",
        "\n",
        "print(\"Programa finalizado.\")\n",
        "print(\"Autor: [Patricio Rojas]\")\n",
        "print(\"Versión del programa: 1.0\")"
      ],
      "metadata": {
        "colab": {
          "base_uri": "https://localhost:8080/"
        },
        "id": "ncl34EfJjXMn",
        "outputId": "fee23059-aaee-4b92-a54f-01fac26b10ff"
      },
      "execution_count": null,
      "outputs": [
        {
          "output_type": "stream",
          "name": "stdout",
          "text": [
            "Bienvenido al menú.\n",
            "1. Grabar\n",
            "2. Buscar\n",
            "3. Imprimir\n",
            "4. Salir\n",
            "Seleccione una opción: 1\n",
            "Ingrese el número de parte: 840369A21\n",
            "Ingrese el nombre del producto: Huawei Generation One\n",
            "Ingrese el precio del producto: 350000\n",
            "Se ha grabado el producto.\n",
            "Bienvenido al menú.\n",
            "1. Grabar\n",
            "2. Buscar\n",
            "3. Imprimir\n",
            "4. Salir\n",
            "Seleccione una opción: 1\n",
            "Ingrese el número de parte: 867961B21\n",
            "Ingrese el nombre del producto: Huawei Next Generation 2\n",
            "Ingrese el precio del producto: 550000\n",
            "Se ha grabado el producto.\n",
            "Bienvenido al menú.\n",
            "1. Grabar\n",
            "2. Buscar\n",
            "3. Imprimir\n",
            "4. Salir\n",
            "Seleccione una opción: 3\n",
            "Reporte de productos:\n",
            "Número de parte: 840369A21\n",
            "Nombre del producto: Huawei Generation One\n",
            "Descripción del producto: \n",
            "Valor del producto: 350000.0\n",
            "Número de parte: 867961B21\n",
            "Nombre del producto: Huawei Next Generation 2\n",
            "Descripción del producto: \n",
            "Valor del producto: 550000.0\n",
            "Bienvenido al menú.\n",
            "1. Grabar\n",
            "2. Buscar\n",
            "3. Imprimir\n",
            "4. Salir\n"
          ]
        }
      ]
    }
  ]
}