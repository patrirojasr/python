{
  "nbformat": 4,
  "nbformat_minor": 0,
  "metadata": {
    "colab": {
      "provenance": []
    },
    "kernelspec": {
      "name": "python3",
      "display_name": "Python 3"
    },
    "language_info": {
      "name": "python"
    }
  },
  "cells": [
    {
      "cell_type": "code",
      "execution_count": 5,
      "metadata": {
        "colab": {
          "base_uri": "https://localhost:8080/"
        },
        "id": "ocVmts4PdpLD",
        "outputId": "41df041f-51c8-4539-c79d-c4180e19b7e7"
      },
      "outputs": [
        {
          "output_type": "stream",
          "name": "stdout",
          "text": [
            "[[81 12 65]\n",
            " [73 17 74]\n",
            " [77 89 41]]\n"
          ]
        }
      ],
      "source": [
        "import random\n",
        "import numpy as np\n",
        "\n",
        "arreglo = np.random.randint(0, 100, size=(3, 3))\n",
        "\n",
        "print(arreglo)"
      ]
    },
    {
      "cell_type": "code",
      "source": [
        "import numpy as np\n",
        "\n",
        "promedio = np.mean(arreglo)\n",
        "suma = np.sum(arreglo)\n",
        "mayor = np.max(arreglo)\n",
        "menor = np.min(arreglo)\n",
        "diagonal = arreglo.diagonal()\n",
        "\n",
        "print(\"Promedio de los elementos:\", promedio)\n",
        "print(\"Suma de los elementos:\", suma)\n",
        "print(\"Elemento mayor:\", mayor)\n",
        "print(\"Elemento menor:\", menor)\n",
        "print(\"Elementos de la diagonal principal:\", diagonal)"
      ],
      "metadata": {
        "colab": {
          "base_uri": "https://localhost:8080/"
        },
        "id": "qPKOQk4Kd9So",
        "outputId": "78b0824c-5400-42e0-bb44-556651417a04"
      },
      "execution_count": 10,
      "outputs": [
        {
          "output_type": "stream",
          "name": "stdout",
          "text": [
            "Promedio de los elementos: 58.77777777777778\n",
            "Suma de los elementos: 529\n",
            "Elemento mayor: 89\n",
            "Elemento menor: 12\n",
            "Elementos de la diagonal principal: [81 17 41]\n"
          ]
        }
      ]
    },
    {
      "cell_type": "code",
      "source": [
        "import numpy as np\n",
        "\n",
        "arreglo = np.zeros((3, 3))\n",
        "\n",
        "np.fill_diagonal(arreglo, [1, 2, 3])\n",
        "\n",
        "print(arreglo)"
      ],
      "metadata": {
        "colab": {
          "base_uri": "https://localhost:8080/"
        },
        "id": "zpOeSBufeMmY",
        "outputId": "18fab14b-c15b-464b-9b3d-cc496f0559fe"
      },
      "execution_count": 15,
      "outputs": [
        {
          "output_type": "stream",
          "name": "stdout",
          "text": [
            "[[1. 0. 0.]\n",
            " [0. 2. 0.]\n",
            " [0. 0. 3.]]\n"
          ]
        }
      ]
    }
  ]
}