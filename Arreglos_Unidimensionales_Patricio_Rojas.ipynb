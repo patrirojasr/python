{
  "nbformat": 4,
  "nbformat_minor": 0,
  "metadata": {
    "colab": {
      "provenance": []
    },
    "kernelspec": {
      "name": "python3",
      "display_name": "Python 3"
    },
    "language_info": {
      "name": "python"
    }
  },
  "cells": [
    {
      "cell_type": "code",
      "execution_count": 10,
      "metadata": {
        "colab": {
          "base_uri": "https://localhost:8080/"
        },
        "id": "IpSUzCb3ZK0k",
        "outputId": "ec9d8e1e-0b87-4134-b9f0-bc69950bf6e8"
      },
      "outputs": [
        {
          "output_type": "stream",
          "name": "stdout",
          "text": [
            "[36, 4, 37, 94, 5, 45, 41, 54, 41, 81]\n"
          ]
        }
      ],
      "source": [
        "import random\n",
        "\n",
        "arreglo = []\n",
        "\n",
        "for i in range(10):\n",
        "    num = random.randint(0, 100)\n",
        "    arreglo.append(num)\n",
        "\n",
        "print(arreglo)"
      ]
    },
    {
      "cell_type": "code",
      "source": [
        "import random\n",
        "\n",
        "arreglo = [random.randint(0, 100)\n",
        "\n",
        "for i in range(10)]\n",
        "\n",
        "copia = arreglo.copy()\n",
        "\n",
        "mayor = max(copia)\n",
        "\n",
        "menor = min(copia)\n",
        "\n",
        "suma = sum(copia)\n",
        "\n",
        "promedio = suma / len(copia)\n",
        "\n",
        "print(\"Arreglo:\", copia)\n",
        "print(\"Elemento mayor:\", mayor)\n",
        "print(\"Elemento menor:\", menor)\n",
        "print(\"Suma de los elementos:\", suma)\n",
        "print(\"Promedio de los elementos:\", promedio)"
      ],
      "metadata": {
        "colab": {
          "base_uri": "https://localhost:8080/"
        },
        "id": "ggmvhMHCcBl4",
        "outputId": "922380d1-bcdf-4f9b-ab11-fe275fee5d0e"
      },
      "execution_count": 17,
      "outputs": [
        {
          "output_type": "stream",
          "name": "stdout",
          "text": [
            "Arreglo: [7, 39, 21, 11, 47, 27, 19, 40, 87, 51]\n",
            "Elemento mayor: 87\n",
            "Elemento menor: 7\n",
            "Suma de los elementos: 349\n",
            "Promedio de los elementos: 34.9\n"
          ]
        }
      ]
    }
  ]
}